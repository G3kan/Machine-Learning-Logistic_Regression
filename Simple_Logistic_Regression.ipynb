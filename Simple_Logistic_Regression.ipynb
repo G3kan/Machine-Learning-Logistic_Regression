{
 "cells": [
  {
   "cell_type": "code",
   "execution_count": 2,
   "id": "2d43105e-27e4-4474-aa1e-21fc9e4df7e2",
   "metadata": {},
   "outputs": [],
   "source": [
    "import pandas as pd\n",
    "import numpy as np\n",
    "import seaborn as sns\n",
    "from sklearn.linear_model import LinearRegression\n",
    "from sklearn.linear_model import Ridge\n",
    "from sklearn.linear_model import Lasso\n",
    "import matplotlib.pyplot as plt\n",
    "import pingouin as pg\n",
    "from statsmodels.formula.api import ols\n",
    "import statsmodels.api as sm\n",
    "from statsmodels.api import qqplot\n",
    "from statsmodels.formula.api import logit\n",
    "from statsmodels.graphics.mosaicplot import mosaic"
   ]
  },
  {
   "cell_type": "code",
   "execution_count": 3,
   "id": "9e21bfdc-eaaf-45bf-9e5a-ae9ad1989cb9",
   "metadata": {},
   "outputs": [],
   "source": [
    "logit_df=pd.read_csv(\"churn.csv\")"
   ]
  },
  {
   "cell_type": "code",
   "execution_count": 4,
   "id": "f964cf44-682e-4f5c-8f74-7b5533da98f4",
   "metadata": {},
   "outputs": [
    {
     "name": "stdout",
     "output_type": "stream",
     "text": [
      "<class 'pandas.core.frame.DataFrame'>\n",
      "RangeIndex: 400 entries, 0 to 399\n",
      "Data columns (total 3 columns):\n",
      " #   Column                     Non-Null Count  Dtype  \n",
      "---  ------                     --------------  -----  \n",
      " 0   has_churned                400 non-null    int64  \n",
      " 1   time_since_first_purchase  400 non-null    float64\n",
      " 2   time_since_last_purchase   400 non-null    float64\n",
      "dtypes: float64(2), int64(1)\n",
      "memory usage: 9.5 KB\n"
     ]
    }
   ],
   "source": [
    "logit_df.info()"
   ]
  },
  {
   "cell_type": "code",
   "execution_count": 5,
   "id": "28ae27a3-10be-41f9-8faf-6b11b2c08cdd",
   "metadata": {},
   "outputs": [
    {
     "data": {
      "text/html": [
       "<div>\n",
       "<style scoped>\n",
       "    .dataframe tbody tr th:only-of-type {\n",
       "        vertical-align: middle;\n",
       "    }\n",
       "\n",
       "    .dataframe tbody tr th {\n",
       "        vertical-align: top;\n",
       "    }\n",
       "\n",
       "    .dataframe thead th {\n",
       "        text-align: right;\n",
       "    }\n",
       "</style>\n",
       "<table border=\"1\" class=\"dataframe\">\n",
       "  <thead>\n",
       "    <tr style=\"text-align: right;\">\n",
       "      <th></th>\n",
       "      <th>count</th>\n",
       "      <th>mean</th>\n",
       "      <th>std</th>\n",
       "      <th>min</th>\n",
       "      <th>25%</th>\n",
       "      <th>50%</th>\n",
       "      <th>75%</th>\n",
       "      <th>max</th>\n",
       "    </tr>\n",
       "  </thead>\n",
       "  <tbody>\n",
       "    <tr>\n",
       "      <th>has_churned</th>\n",
       "      <td>400.0</td>\n",
       "      <td>0.500000</td>\n",
       "      <td>0.500626</td>\n",
       "      <td>0.000000</td>\n",
       "      <td>0.000000</td>\n",
       "      <td>0.500000</td>\n",
       "      <td>1.000000</td>\n",
       "      <td>1.000000</td>\n",
       "    </tr>\n",
       "    <tr>\n",
       "      <th>time_since_first_purchase</th>\n",
       "      <td>400.0</td>\n",
       "      <td>-0.034370</td>\n",
       "      <td>0.952936</td>\n",
       "      <td>-1.273770</td>\n",
       "      <td>-0.828377</td>\n",
       "      <td>-0.152072</td>\n",
       "      <td>0.544826</td>\n",
       "      <td>3.738312</td>\n",
       "    </tr>\n",
       "    <tr>\n",
       "      <th>time_since_last_purchase</th>\n",
       "      <td>400.0</td>\n",
       "      <td>0.144549</td>\n",
       "      <td>1.103133</td>\n",
       "      <td>-0.870666</td>\n",
       "      <td>-0.645824</td>\n",
       "      <td>-0.265036</td>\n",
       "      <td>0.571214</td>\n",
       "      <td>5.928242</td>\n",
       "    </tr>\n",
       "  </tbody>\n",
       "</table>\n",
       "</div>"
      ],
      "text/plain": [
       "                           count      mean       std       min       25%  \\\n",
       "has_churned                400.0  0.500000  0.500626  0.000000  0.000000   \n",
       "time_since_first_purchase  400.0 -0.034370  0.952936 -1.273770 -0.828377   \n",
       "time_since_last_purchase   400.0  0.144549  1.103133 -0.870666 -0.645824   \n",
       "\n",
       "                                50%       75%       max  \n",
       "has_churned                0.500000  1.000000  1.000000  \n",
       "time_since_first_purchase -0.152072  0.544826  3.738312  \n",
       "time_since_last_purchase  -0.265036  0.571214  5.928242  "
      ]
     },
     "execution_count": 5,
     "metadata": {},
     "output_type": "execute_result"
    }
   ],
   "source": [
    "logit_df.describe(include=\"all\").T"
   ]
  },
  {
   "cell_type": "code",
   "execution_count": 6,
   "id": "290aebf0-a750-419b-84cd-249dd038ef69",
   "metadata": {},
   "outputs": [
    {
     "name": "stdout",
     "output_type": "stream",
     "text": [
      "   has_churned  time_since_first_purchase  time_since_last_purchase\n",
      "0            0                  -1.089221                 -0.721322\n",
      "1            0                   1.182983                  3.634435\n",
      "2            0                  -0.846156                 -0.427582\n",
      "3            0                   0.086942                 -0.535672\n",
      "4            0                  -1.166642                 -0.672640\n"
     ]
    }
   ],
   "source": [
    "print(logit_df.head(5))\n",
    "#first ve last columnları coding yapılmış"
   ]
  },
  {
   "cell_type": "code",
   "execution_count": 7,
   "id": "96c07f72-fe99-47a6-ab0c-2a9b57ebb136",
   "metadata": {},
   "outputs": [
    {
     "data": {
      "image/png": "[encoded data removed]",
      "text/plain": [
       "<Figure size 640x480 with 1 Axes>"
      ]
     },
     "metadata": {},
     "output_type": "display_data"
    }
   ],
   "source": [
    "sns.regplot(x=\"time_since_first_purchase\",y=\"has_churned\",data=logit_df,ci=None,color=\"red\")\n",
    "sns.regplot(x=\"time_since_first_purchase\",y=\"has_churned\",data=logit_df,ci=None,color=\"blue\",logistic=True)\n",
    "plt.show()"
   ]
  },
  {
   "cell_type": "code",
   "execution_count": 8,
   "id": "5cc8e222-5f2e-48ee-be75-ed59eca7c6ef",
   "metadata": {},
   "outputs": [
    {
     "name": "stdout",
     "output_type": "stream",
     "text": [
      "Optimization terminated successfully.\n",
      "         Current function value: 0.683000\n",
      "         Iterations 4\n"
     ]
    }
   ],
   "source": [
    "logit_model=logit(\"has_churned ~ time_since_last_purchase\",data=logit_df).fit()"
   ]
  },
  {
   "cell_type": "code",
   "execution_count": 9,
   "id": "5826e451-188b-46e5-871e-061ebaf70593",
   "metadata": {},
   "outputs": [
    {
     "data": {
      "text/plain": [
       "Intercept                  -0.035019\n",
       "time_since_last_purchase    0.269215\n",
       "dtype: float64"
      ]
     },
     "execution_count": 9,
     "metadata": {},
     "output_type": "execute_result"
    }
   ],
   "source": [
    "logit_model.params"
   ]
  },
  {
   "cell_type": "code",
   "execution_count": 10,
   "id": "ec413fd1-ebb5-4e68-a558-8f261ffb803f",
   "metadata": {},
   "outputs": [],
   "source": [
    "explanatory_data = pd.DataFrame(  {\"time_since_last_purchase\": np.arange(-1, 6.25, 0.25)})\n",
    "prediction_data = explanatory_data.assign(has_churned = logit_model.predict(explanatory_data))\n"
   ]
  },
  {
   "cell_type": "code",
   "execution_count": 11,
   "id": "4a3495a7-ee65-4d3c-8302-d12bcbbf3501",
   "metadata": {},
   "outputs": [
    {
     "name": "stdout",
     "output_type": "stream",
     "text": [
      "    time_since_last_purchase  has_churned\n",
      "0                      -1.00     0.424523\n",
      "1                      -0.75     0.441043\n",
      "2                      -0.50     0.457695\n",
      "3                      -0.25     0.474441\n",
      "4                       0.00     0.491246\n",
      "5                       0.25     0.508070\n",
      "6                       0.50     0.524876\n",
      "7                       0.75     0.541626\n",
      "8                       1.00     0.558283\n",
      "9                       1.25     0.574809\n",
      "10                      1.50     0.591170\n",
      "11                      1.75     0.607331\n",
      "12                      2.00     0.623260\n",
      "13                      2.25     0.638928\n",
      "14                      2.50     0.654305\n",
      "15                      2.75     0.669367\n",
      "16                      3.00     0.684089\n",
      "17                      3.25     0.698450\n",
      "18                      3.50     0.712434\n",
      "19                      3.75     0.726023\n",
      "20                      4.00     0.739205\n",
      "21                      4.25     0.751970\n",
      "22                      4.50     0.764309\n",
      "23                      4.75     0.776216\n",
      "24                      5.00     0.787690\n",
      "25                      5.25     0.798727\n",
      "26                      5.50     0.809330\n",
      "27                      5.75     0.819500\n",
      "28                      6.00     0.829243\n"
     ]
    }
   ],
   "source": [
    "print(prediction_data)\n",
    "#has_churned 1 veya 0 olmalı ama küsüratlı"
   ]
  },
  {
   "cell_type": "code",
   "execution_count": 12,
   "id": "0bb9713e-07c3-4079-b1bf-947dfd7cc123",
   "metadata": {},
   "outputs": [],
   "source": [
    "prediction_data[\"predict_churned_round\"]=np.round(prediction_data[\"has_churned\"])"
   ]
  },
  {
   "cell_type": "code",
   "execution_count": 13,
   "id": "28d4d49c-f7ff-4c40-929d-cf3ef453bfe4",
   "metadata": {},
   "outputs": [
    {
     "name": "stdout",
     "output_type": "stream",
     "text": [
      "    time_since_last_purchase  has_churned  predict_churned_round\n",
      "0                      -1.00     0.424523                    0.0\n",
      "1                      -0.75     0.441043                    0.0\n",
      "2                      -0.50     0.457695                    0.0\n",
      "3                      -0.25     0.474441                    0.0\n",
      "4                       0.00     0.491246                    0.0\n",
      "5                       0.25     0.508070                    1.0\n",
      "6                       0.50     0.524876                    1.0\n",
      "7                       0.75     0.541626                    1.0\n",
      "8                       1.00     0.558283                    1.0\n",
      "9                       1.25     0.574809                    1.0\n",
      "10                      1.50     0.591170                    1.0\n",
      "11                      1.75     0.607331                    1.0\n",
      "12                      2.00     0.623260                    1.0\n",
      "13                      2.25     0.638928                    1.0\n",
      "14                      2.50     0.654305                    1.0\n",
      "15                      2.75     0.669367                    1.0\n",
      "16                      3.00     0.684089                    1.0\n",
      "17                      3.25     0.698450                    1.0\n",
      "18                      3.50     0.712434                    1.0\n",
      "19                      3.75     0.726023                    1.0\n",
      "20                      4.00     0.739205                    1.0\n",
      "21                      4.25     0.751970                    1.0\n",
      "22                      4.50     0.764309                    1.0\n",
      "23                      4.75     0.776216                    1.0\n",
      "24                      5.00     0.787690                    1.0\n",
      "25                      5.25     0.798727                    1.0\n",
      "26                      5.50     0.809330                    1.0\n",
      "27                      5.75     0.819500                    1.0\n",
      "28                      6.00     0.829243                    1.0\n"
     ]
    }
   ],
   "source": [
    "print(prediction_data)"
   ]
  },
  {
   "cell_type": "code",
   "execution_count": 14,
   "id": "68c72d33-559f-43b2-aaf1-af9731b9df1e",
   "metadata": {},
   "outputs": [
    {
     "data": {
      "image/png": "[encoded data removed]",
      "text/plain": [
       "<Figure size 640x480 with 1 Axes>"
      ]
     },
     "metadata": {},
     "output_type": "display_data"
    }
   ],
   "source": [
    "sns.regplot(x=\"time_since_last_purchase\",y=\"has_churned\",data=logit_df,ci=None,color=\"blue\",logistic=True) #prediction ile real data karşılaştırma\n",
    "sns.regplot(x=\"time_since_last_purchase\",y=\"predict_churned_round\",data=prediction_data,ci=None,color=\"red\",logistic=True)\n",
    "plt.show()"
   ]
  },
  {
   "cell_type": "code",
   "execution_count": 15,
   "id": "0b0ac736-a95b-49e4-8223-016bdd6592a2",
   "metadata": {},
   "outputs": [],
   "source": [
    "prediction_data[\"ihtimal\"] = prediction_data[\"has_churned\"] /(1 - prediction_data[\"has_churned\"])\n"
   ]
  },
  {
   "cell_type": "code",
   "execution_count": 16,
   "id": "efbc3a7b-d314-4569-9ea3-e63a08dd5432",
   "metadata": {},
   "outputs": [
    {
     "name": "stdout",
     "output_type": "stream",
     "text": [
      "    time_since_last_purchase  has_churned  predict_churned_round   ihtimal\n",
      "0                      -1.00     0.424523                    0.0  0.737688\n",
      "1                      -0.75     0.441043                    0.0  0.789046\n",
      "2                      -0.50     0.457695                    0.0  0.843980\n",
      "3                      -0.25     0.474441                    0.0  0.902738\n",
      "4                       0.00     0.491246                    0.0  0.965587\n",
      "5                       0.25     0.508070                    1.0  1.032811\n",
      "6                       0.50     0.524876                    1.0  1.104716\n",
      "7                       0.75     0.541626                    1.0  1.181626\n",
      "8                       1.00     0.558283                    1.0  1.263892\n",
      "9                       1.25     0.574809                    1.0  1.351884\n",
      "10                      1.50     0.591170                    1.0  1.446003\n",
      "11                      1.75     0.607331                    1.0  1.546674\n",
      "12                      2.00     0.623260                    1.0  1.654354\n",
      "13                      2.25     0.638928                    1.0  1.769530\n",
      "14                      2.50     0.654305                    1.0  1.892726\n",
      "15                      2.75     0.669367                    1.0  2.024498\n",
      "16                      3.00     0.684089                    1.0  2.165444\n",
      "17                      3.25     0.698450                    1.0  2.316203\n",
      "18                      3.50     0.712434                    1.0  2.477458\n",
      "19                      3.75     0.726023                    1.0  2.649939\n",
      "20                      4.00     0.739205                    1.0  2.834429\n",
      "21                      4.25     0.751970                    1.0  3.031762\n",
      "22                      4.50     0.764309                    1.0  3.242835\n",
      "23                      4.75     0.776216                    1.0  3.468602\n",
      "24                      5.00     0.787690                    1.0  3.710087\n",
      "25                      5.25     0.798727                    1.0  3.968384\n",
      "26                      5.50     0.809330                    1.0  4.244665\n",
      "27                      5.75     0.819500                    1.0  4.540179\n",
      "28                      6.00     0.829243                    1.0  4.856268\n"
     ]
    }
   ],
   "source": [
    "print(prediction_data)"
   ]
  },
  {
   "cell_type": "code",
   "execution_count": 17,
   "id": "b666a30e-91cc-488c-a74b-d45fbc952106",
   "metadata": {},
   "outputs": [
    {
     "data": {
      "image/png": "[encoded data removed]",
      "text/plain": [
       "<Figure size 640x480 with 1 Axes>"
      ]
     },
     "metadata": {},
     "output_type": "display_data"
    }
   ],
   "source": [
    "sns.lineplot(x=\"time_since_last_purchase\",y=\"ihtimal\",data=prediction_data)\n",
    "plt.axhline(y=1,linestyle=\"dotted\")\n",
    "plt.show()\n"
   ]
  },
  {
   "cell_type": "code",
   "execution_count": 18,
   "id": "9bb9fed3-4d4e-4b2b-a627-d6d4b412694d",
   "metadata": {},
   "outputs": [],
   "source": [
    "prediction_data[\"log_ihtimal\"] = np.log(prediction_data[\"ihtimal\"])"
   ]
  },
  {
   "cell_type": "code",
   "execution_count": 19,
   "id": "33277e75-b01a-478e-bf7d-c2f64cd22d48",
   "metadata": {},
   "outputs": [],
   "source": [
    "#Scale           Arevalueseasytointerpret?  Arechangeseasytointerpret?  Isprecise?\n",
    "#Probability          ✔                         ✘                         ✔\n",
    "#Mostlikelyoutcome    ✔✔                        ✔                        ✘\n",
    "#Oddsratio            ✔                         ✘                         ✔\n",
    "#Logoddsratio         ✘                         ✔                         ✔\n"
   ]
  },
  {
   "cell_type": "code",
   "execution_count": 20,
   "id": "25911e3d-66f6-4216-9daf-a1a724449a72",
   "metadata": {},
   "outputs": [
    {
     "name": "stdout",
     "output_type": "stream",
     "text": [
      "    time_since_last_purchase  has_churned  predict_churned_round   ihtimal  \\\n",
      "0                      -1.00     0.424523                    0.0  0.737688   \n",
      "1                      -0.75     0.441043                    0.0  0.789046   \n",
      "2                      -0.50     0.457695                    0.0  0.843980   \n",
      "3                      -0.25     0.474441                    0.0  0.902738   \n",
      "4                       0.00     0.491246                    0.0  0.965587   \n",
      "5                       0.25     0.508070                    1.0  1.032811   \n",
      "6                       0.50     0.524876                    1.0  1.104716   \n",
      "7                       0.75     0.541626                    1.0  1.181626   \n",
      "8                       1.00     0.558283                    1.0  1.263892   \n",
      "9                       1.25     0.574809                    1.0  1.351884   \n",
      "10                      1.50     0.591170                    1.0  1.446003   \n",
      "11                      1.75     0.607331                    1.0  1.546674   \n",
      "12                      2.00     0.623260                    1.0  1.654354   \n",
      "13                      2.25     0.638928                    1.0  1.769530   \n",
      "14                      2.50     0.654305                    1.0  1.892726   \n",
      "15                      2.75     0.669367                    1.0  2.024498   \n",
      "16                      3.00     0.684089                    1.0  2.165444   \n",
      "17                      3.25     0.698450                    1.0  2.316203   \n",
      "18                      3.50     0.712434                    1.0  2.477458   \n",
      "19                      3.75     0.726023                    1.0  2.649939   \n",
      "20                      4.00     0.739205                    1.0  2.834429   \n",
      "21                      4.25     0.751970                    1.0  3.031762   \n",
      "22                      4.50     0.764309                    1.0  3.242835   \n",
      "23                      4.75     0.776216                    1.0  3.468602   \n",
      "24                      5.00     0.787690                    1.0  3.710087   \n",
      "25                      5.25     0.798727                    1.0  3.968384   \n",
      "26                      5.50     0.809330                    1.0  4.244665   \n",
      "27                      5.75     0.819500                    1.0  4.540179   \n",
      "28                      6.00     0.829243                    1.0  4.856268   \n",
      "\n",
      "    log_ihtimal  \n",
      "0     -0.304234  \n",
      "1     -0.236931  \n",
      "2     -0.169627  \n",
      "3     -0.102323  \n",
      "4     -0.035019  \n",
      "5      0.032284  \n",
      "6      0.099588  \n",
      "7      0.166892  \n",
      "8      0.234196  \n",
      "9      0.301499  \n",
      "10     0.368803  \n",
      "11     0.436107  \n",
      "12     0.503410  \n",
      "13     0.570714  \n",
      "14     0.638018  \n",
      "15     0.705322  \n",
      "16     0.772625  \n",
      "17     0.839929  \n",
      "18     0.907233  \n",
      "19     0.974537  \n",
      "20     1.041840  \n",
      "21     1.109144  \n",
      "22     1.176448  \n",
      "23     1.243752  \n",
      "24     1.311055  \n",
      "25     1.378359  \n",
      "26     1.445663  \n",
      "27     1.512967  \n",
      "28     1.580270  \n"
     ]
    }
   ],
   "source": [
    "print(prediction_data)"
   ]
  },
  {
   "cell_type": "code",
   "execution_count": 31,
   "id": "78a96c35-9f5b-4953-b4bc-a1b872a9d2d8",
   "metadata": {},
   "outputs": [],
   "source": [
    "con_matrix=logit_model.pred_table(threshold=0.5)\n",
    "#eğitim verisi üzerinde tahimn yapar\n",
    "#parametreler\n",
    "#threshold=0.5 parametresini \n",
    "#threshold Adjusts the cutoff for classifying predictions into positive or negative. A higher threshold results in fewer positive classifications.\n",
    "#add_intercept: This parameter is used to determine whether an intercept should be added to the model. By default, this is usually set to True, but it might not be applicable depending on the context of your confusion matrix generation."
   ]
  },
  {
   "cell_type": "raw",
   "id": "e32b5c0d-3200-4771-80c5-717caac31ba7",
   "metadata": {},
   "source": [
    "      [ TN  FP \n",
    "      FN  TP ]"
   ]
  },
  {
   "cell_type": "code",
   "execution_count": 32,
   "id": "9e50135b-2173-4949-9bab-188cb8d72181",
   "metadata": {},
   "outputs": [
    {
     "name": "stdout",
     "output_type": "stream",
     "text": [
      "[[141.  59.]\n",
      " [111.  89.]]\n"
     ]
    }
   ],
   "source": [
    "print(con_matrix)  "
   ]
  },
  {
   "cell_type": "markdown",
   "id": "d4c7ed56-8fba-4cf8-b299-aadb3cabb062",
   "metadata": {},
   "source": [
    " ## predict false and actualy false=141/// predictfalse and actualy true=111 ///predictfalse and actualy true =59 ///predict true and actualy true 89"
   ]
  },
  {
   "cell_type": "code",
   "execution_count": 23,
   "id": "f63aa4b5-6203-41b0-9eff-df06a7844040",
   "metadata": {},
   "outputs": [
    {
     "data": {
      "text/plain": [
       "(<Figure size 640x480 with 3 Axes>,\n",
       " {('0', '0'): (0.0, 0.0, 0.49751243781094534, 0.70265780730897),\n",
       "  ('0', '1'): (0.0,\n",
       "   0.7059800664451826,\n",
       "   0.49751243781094534,\n",
       "   0.2940199335548173),\n",
       "  ('1', '0'): (0.5024875621890548,\n",
       "   0.0,\n",
       "   0.49751243781094534,\n",
       "   0.553156146179402),\n",
       "  ('1', '1'): (0.5024875621890548,\n",
       "   0.5564784053156145,\n",
       "   0.49751243781094534,\n",
       "   0.4435215946843853)})"
      ]
     },
     "execution_count": 23,
     "metadata": {},
     "output_type": "execute_result"
    },
    {
     "data": {
      "image/png": "[encoded data removed]",
      "text/plain": [
       "<Figure size 640x480 with 3 Axes>"
      ]
     },
     "metadata": {},
     "output_type": "display_data"
    }
   ],
   "source": [
    "mosaic(con_matrix)"
   ]
  },
  {
   "cell_type": "code",
   "execution_count": 37,
   "id": "81780dc4-d9d7-4843-9969-c253ae15d6b6",
   "metadata": {},
   "outputs": [],
   "source": [
    "TN = con_matrix[0, 0]\n",
    "FP = con_matrix[0, 1]\n",
    "FN = con_matrix[1, 0]\n",
    "TP = con_matrix[1, 1]"
   ]
  },
  {
   "cell_type": "code",
   "execution_count": 42,
   "id": "3c872d7e-7865-42be-b74a-6e87634d5e18",
   "metadata": {},
   "outputs": [],
   "source": [
    "accuracy = (TN + TP) / (TN + FP + FN + TP)\n",
    "sensitivty= TP/(FN+TP)#recall\n",
    "specificity=TN/(FP+TN)"
   ]
  },
  {
   "cell_type": "code",
   "execution_count": 43,
   "id": "34436605-fea6-41f6-8bfa-b943fb4b6301",
   "metadata": {},
   "outputs": [
    {
     "name": "stdout",
     "output_type": "stream",
     "text": [
      "0.575 0.445 0.705\n"
     ]
    }
   ],
   "source": [
    "print(accuracy,sensitivty,specificity)"
   ]
  },
  {
   "cell_type": "code",
   "execution_count": null,
   "id": "d176ac8e-6ecb-44c9-bcfc-10d12ee8e53b",
   "metadata": {},
   "outputs": [],
   "source": [
    "#özgüllük artarsa hassasiyet azalır, tam terside geçerli"
   ]
  }
 ],
 "metadata": {
  "kernelspec": {
   "display_name": "Python 3 (ipykernel)",
   "language": "python",
   "name": "python3"
  },
  "language_info": {
   "codemirror_mode": {
    "name": "ipython",
    "version": 3
   },
   "file_extension": ".py",
   "mimetype": "text/x-python",
   "name": "python",
   "nbconvert_exporter": "python",
   "pygments_lexer": "ipython3",
   "version": "3.9.13"
  }
 },
 "nbformat": 4,
 "nbformat_minor": 5
}
